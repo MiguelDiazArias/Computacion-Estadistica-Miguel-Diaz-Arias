{
  "nbformat": 4,
  "nbformat_minor": 0,
  "metadata": {
    "colab": {
      "name": "Caja_Problemas_1_EJERCICIOS_FUNCIONES.ipynb",
      "provenance": []
    },
    "kernelspec": {
      "name": "python3",
      "display_name": "Python 3"
    },
    "language_info": {
      "name": "python"
    }
  },
  "cells": [
    {
      "cell_type": "markdown",
      "source": [
        "Llevar a codigo las funciones"
      ],
      "metadata": {
        "id": "9G3RLiRQDp1J"
      }
    },
    {
      "cell_type": "markdown",
      "source": [
        "$$y_1=log({x})$$\n",
        "\n",
        "Condiciones:\n",
        "$$x>0$$\n"
      ],
      "metadata": {
        "id": "bOhNv9PHIIDO"
      }
    },
    {
      "cell_type": "code",
      "source": [
        "from math import log\n",
        "x = float(input('Ingresa el valor de X: '))\n",
        "if x<=0:\n",
        "  print('Fuera del dominio real de la funcion')\n",
        "else:\n",
        "  y1 = log(x)\n",
        "  print(f'y1 es: {y1}')"
      ],
      "metadata": {
        "colab": {
          "base_uri": "https://localhost:8080/"
        },
        "id": "yVjr3pmTDymv",
        "outputId": "82cf2483-fc81-4811-b59a-ee65cc99502b"
      },
      "execution_count": 61,
      "outputs": [
        {
          "output_type": "stream",
          "name": "stdout",
          "text": [
            "Ingresa el valor de X: 1.5\n",
            "y1 es: 0.4054651081081644\n"
          ]
        }
      ]
    },
    {
      "cell_type": "markdown",
      "source": [
        "$$y_2=log(\\sqrt{x})$$\n",
        "\n",
        "Condiciones:\n",
        "$$x>0$$"
      ],
      "metadata": {
        "id": "nJoHEcTHKH0k"
      }
    },
    {
      "cell_type": "code",
      "source": [
        "from math import log\n",
        "from math import sqrt\n",
        "x = float(input('Ingresa el valor de X: '))\n",
        "if x<=0:\n",
        "  print('Fuera del dominio real de la funcion')\n",
        "else:\n",
        "  y2 = log(sqrt(x))\n",
        "  print(f'y2 es: {y2}')"
      ],
      "metadata": {
        "colab": {
          "base_uri": "https://localhost:8080/"
        },
        "id": "RspmA-RPKZ00",
        "outputId": "013794ec-0243-401f-82da-e141e0907dde"
      },
      "execution_count": 49,
      "outputs": [
        {
          "output_type": "stream",
          "name": "stdout",
          "text": [
            "Ingresa el valor de X: 7\n",
            "y2 es: 0.9729550745276567\n"
          ]
        }
      ]
    },
    {
      "cell_type": "markdown",
      "source": [
        "$$y_3=log(\\sqrt{x^2-1})$$\n",
        "\n",
        "Condiciones:\n",
        "$$x<-1$$\n",
        "$$x>1$$"
      ],
      "metadata": {
        "id": "0ZwhMZ9oTBJR"
      }
    },
    {
      "cell_type": "code",
      "source": [
        "x = float(input('Ingresa el valor de X: '))\n",
        "if x>=-1 and x<=1:\n",
        "  print('Fuera del dominio real de la funcion')\n",
        "else:\n",
        "  y3 =log(sqrt((x**2)-1))\n",
        "  print(f'y3 es: {y3}')"
      ],
      "metadata": {
        "colab": {
          "base_uri": "https://localhost:8080/"
        },
        "id": "l5lmHGNdTkN5",
        "outputId": "85698aa2-53c3-4ad4-b582-c4a76ce74d17"
      },
      "execution_count": 64,
      "outputs": [
        {
          "output_type": "stream",
          "name": "stdout",
          "text": [
            "Ingresa el valor de X: 6\n",
            "y3 es: 1.7776740307447068\n"
          ]
        }
      ]
    },
    {
      "cell_type": "markdown",
      "source": [
        "$$y4 = \\frac{\\log(\\sqrt{x-1})}{x^2+1}$$\n",
        "Condiciones:\n",
        "$$x>1$$"
      ],
      "metadata": {
        "id": "j_N9Y2z8WH0o"
      }
    },
    {
      "cell_type": "code",
      "source": [
        "x = float(input('Ingresa el valor de X: '))\n",
        "if x<=1:\n",
        "  print('Fuera del dominio real de la funcion')\n",
        "else:\n",
        "  y4 =log(sqrt((x-1)))/(x**2+1)\n",
        "  print(f'y4 es: {y4}')"
      ],
      "metadata": {
        "colab": {
          "base_uri": "https://localhost:8080/"
        },
        "id": "RXEhXxj6Wug4",
        "outputId": "2ed1a851-797e-48e7-b33a-6b0b0fbda279"
      },
      "execution_count": 59,
      "outputs": [
        {
          "output_type": "stream",
          "name": "stdout",
          "text": [
            "Ingresa el valor de X: 4\n",
            "y4 es: 0.03231212613729734\n"
          ]
        }
      ]
    },
    {
      "cell_type": "markdown",
      "source": [
        "$$y5 = \\frac{x-1}{log(x)}$$\n",
        "Condiciones:\n",
        "$$0<x<1$$\n",
        "$$x>1$$"
      ],
      "metadata": {
        "id": "Q4DexL_HXzPX"
      }
    },
    {
      "cell_type": "code",
      "source": [
        "x = float(input('Ingresa el valor de X: '))\n",
        "if x<=0 or x==1:\n",
        "  print('Fuera del dominio real de la funcion')\n",
        "else:\n",
        "  y5 =(x-1)/log(x)\n",
        "  print(f'y5 es: {y5}')"
      ],
      "metadata": {
        "colab": {
          "base_uri": "https://localhost:8080/"
        },
        "id": "iTXv1gwYYvTY",
        "outputId": "f459c007-436c-4bc0-beed-0e3517bdc332"
      },
      "execution_count": 89,
      "outputs": [
        {
          "output_type": "stream",
          "name": "stdout",
          "text": [
            "Ingresa el valor de X: 0.5\n",
            "y5 es: 0.7213475204444817\n"
          ]
        }
      ]
    },
    {
      "cell_type": "markdown",
      "source": [
        "$$y6 = \\frac{1}{x}+\\sqrt{x-1}$$\n",
        "Condiciones:\n",
        "$$x>1 $$ $$o$$ $$x=1$$"
      ],
      "metadata": {
        "id": "3nO9IRVtbpkI"
      }
    },
    {
      "cell_type": "code",
      "source": [
        "x = float(input('Ingresa el valor de X: '))\n",
        "if x<1:\n",
        "  print('Fuera del dominio real de la funcion')\n",
        "else:\n",
        "  y6 =(1/x) + sqrt(x-1)\n",
        "  print(f'y6 es: {y6}')"
      ],
      "metadata": {
        "colab": {
          "base_uri": "https://localhost:8080/"
        },
        "id": "00q-srz9bp8-",
        "outputId": "ae216091-6d09-4355-a490-7beafc12c255"
      },
      "execution_count": 91,
      "outputs": [
        {
          "output_type": "stream",
          "name": "stdout",
          "text": [
            "Ingresa el valor de X: 0\n",
            "Fuera del dominio real de la funcion\n"
          ]
        }
      ]
    },
    {
      "cell_type": "markdown",
      "source": [
        "$$y7 = \\frac{1}{x}+\\sqrt{x-1} - \\frac{1}{log(\\frac{1}{x+1})}$$\n",
        "Condiciones:\n",
        "$$x>1 $$ $$o$$ $$x=1$$"
      ],
      "metadata": {
        "id": "4j3Hg5RIfwq0"
      }
    },
    {
      "cell_type": "code",
      "source": [
        "x = float(input('Ingresa el valor de X: '))\n",
        "if x<1:\n",
        "  print('Fuera del dominio real de la funcion')\n",
        "else:\n",
        "  y7= (1/x) + sqrt(x-1)-(1/log((1/(x+1))))\n",
        "  print(f'y7 es: {y7}')"
      ],
      "metadata": {
        "colab": {
          "base_uri": "https://localhost:8080/"
        },
        "id": "S_gih1KYhDRd",
        "outputId": "e8f875de-7083-4494-d5f9-d5920da0ff5f"
      },
      "execution_count": 96,
      "outputs": [
        {
          "output_type": "stream",
          "name": "stdout",
          "text": [
            "Ingresa el valor de X: 7\n",
            "y7 es: 3.0732452326033086\n"
          ]
        }
      ]
    },
    {
      "cell_type": "markdown",
      "source": [
        "$$y8=\\frac{2}{x^2+1}$$"
      ],
      "metadata": {
        "id": "4psmkFBIjtNs"
      }
    },
    {
      "cell_type": "code",
      "source": [
        "x = float(input('Ingresa el valor de X: '))\n",
        "y8= 2/(x**2+1)\n",
        "print(f'y8 es: {y8}')"
      ],
      "metadata": {
        "colab": {
          "base_uri": "https://localhost:8080/"
        },
        "id": "upTd4Qw1jtYD",
        "outputId": "afcbf76e-b56e-4893-98c2-16bbe575e27d"
      },
      "execution_count": 99,
      "outputs": [
        {
          "output_type": "stream",
          "name": "stdout",
          "text": [
            "Ingresa el valor de X: 0\n",
            "y8 es: 2.0\n"
          ]
        }
      ]
    },
    {
      "cell_type": "markdown",
      "source": [
        "$$y9=\\frac{\\sum_{i=1}^{n}x_i}{n}$$"
      ],
      "metadata": {
        "id": "V7HSfg9AmTlp"
      }
    },
    {
      "cell_type": "code",
      "source": [
        "n=int(input('Ingrese la cantidad de numeros a promediar\"n\"'))\n",
        "suma=0\n",
        "i=1\n",
        "while (i<=n):\n",
        "  print(\"Ingrese el numero:\",i)\n",
        "  numero=float(input())\n",
        "  suma=numero+suma\n",
        "  i+=1\n",
        "  y9=suma/n\n",
        "  print(f'y9 es {y9}') #intente usar \"break\" e \"if\" pero no encontre la forma de hacer que solo arroje el promedio final"
      ],
      "metadata": {
        "colab": {
          "base_uri": "https://localhost:8080/"
        },
        "id": "48I_SlG1nZnJ",
        "outputId": "5898107e-09f2-423b-ce82-7e3706154587"
      },
      "execution_count": 230,
      "outputs": [
        {
          "output_type": "stream",
          "name": "stdout",
          "text": [
            "Ingrese la cantidad de numeros a promediar\"n\"4\n",
            "Ingrese el numero: 1\n",
            "2\n",
            "y9 es 0.5\n",
            "Ingrese el numero: 2\n",
            "3\n",
            "y9 es 1.25\n",
            "Ingrese el numero: 3\n",
            "2\n",
            "y9 es 1.75\n",
            "Ingrese el numero: 4\n",
            "3\n",
            "y9 es 2.5\n"
          ]
        }
      ]
    },
    {
      "cell_type": "markdown",
      "source": [
        "$$y10=\\frac{\\sum_{i=1}^{n}(x_i-\\tilde{x})^2}{n-1}$$"
      ],
      "metadata": {
        "id": "FbTfDlAZuwjh"
      }
    },
    {
      "cell_type": "code",
      "source": [
        "#intente de mil formas para que fuera parecida a las otras funciones, pero no lo logre\n",
        "import statistics\n",
        "\n",
        "datos = [2.5,3,4,5] #agregar los datos separados por comas, estos son solo un ejemplo\n",
        "y10 = statistics.variance(datos) \n",
        "\n",
        "print(f'y10 es {y10}')"
      ],
      "metadata": {
        "colab": {
          "base_uri": "https://localhost:8080/"
        },
        "id": "WYGWTBdKZENW",
        "outputId": "1eef2ff2-49dc-43b7-e7a5-5edd085dfd78"
      },
      "execution_count": 376,
      "outputs": [
        {
          "output_type": "stream",
          "name": "stdout",
          "text": [
            "y10 es 1.2291666666666667\n"
          ]
        }
      ]
    },
    {
      "cell_type": "markdown",
      "source": [
        "$$y11=\\frac{\\sqrt{y10}}{y9}$$\n",
        "\n"
      ],
      "metadata": {
        "id": "AMvIAJUKrXMH"
      }
    },
    {
      "cell_type": "code",
      "source": [
        "import statistics\n",
        "\n",
        "datos = [2.5,3,4,5] #agregar los datos separados por comas, estos son solo un ejemplo\n",
        "y10 = statistics.variance(datos)\n",
        "y9=statistics.mean(datos)\n",
        "y11=(sqrt(y10)/y9)\n",
        "print(f'y11 es {y11}')"
      ],
      "metadata": {
        "colab": {
          "base_uri": "https://localhost:8080/"
        },
        "id": "l952H7izr5Ov",
        "outputId": "f14d57f7-6503-471e-f41a-ae16280158bf"
      },
      "execution_count": 383,
      "outputs": [
        {
          "output_type": "stream",
          "name": "stdout",
          "text": [
            "y11 es 0.3058421769114959\n"
          ]
        }
      ]
    }
  ]
}