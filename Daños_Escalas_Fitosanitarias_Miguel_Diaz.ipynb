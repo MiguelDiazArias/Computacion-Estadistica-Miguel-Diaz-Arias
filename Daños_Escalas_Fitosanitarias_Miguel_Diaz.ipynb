{
  "nbformat": 4,
  "nbformat_minor": 0,
  "metadata": {
    "colab": {
      "name": "Daños_Escalas_Fitosanitarias_Miguel_Diaz.ipynb",
      "provenance": []
    },
    "kernelspec": {
      "name": "python3",
      "display_name": "Python 3"
    },
    "language_info": {
      "name": "python"
    }
  },
  "cells": [
    {
      "cell_type": "markdown",
      "source": [
        "### Asignación\n",
        "\n",
        "[Articulo Referencia](https://www.researchgate.net/publication/262457253_Development_and_validation_of_a_diagrammatic_scale_to_evaluate_cercospora_leaf_spot_in_watermelon/figures?lo=1)\n",
        "\n",
        "1. Generar unos datos de la dostribución log-normal, con un promedio de daño del **8%** y una desviación estandar de **3.6** (si algún valor es negativo se convierte a 0)\n",
        "2. Extraer media, mediana, quartiles y percentiles (desde 5% hasta 95% cada 5)\n",
        "3. Categorizar la variable según la escala diagramtica del *articulo referencia*\n",
        "4. En que posición de debo ubicarme en la escala para estimar la severidad real"
      ],
      "metadata": {
        "id": "wDHglaWCAZLJ"
      }
    },
    {
      "cell_type": "markdown",
      "source": [
        "1. Generar unos datos de la dostribución log-normal, con un promedio de daño del **8%** y una desviación estandar de **3.6** (si algún valor es negativo se convierte a 0)"
      ],
      "metadata": {
        "id": "KkRjV-J_EGuk"
      }
    },
    {
      "cell_type": "code",
      "source": [
        "#Los datos generados deben estar entre 0 y 1 para este caso, hay que truncarlos\n",
        "mu=0.08\n",
        "sigma=3.6\n",
        "np.random.seed(2505)\n",
        "while True:\n",
        "   \n",
        "   if i == 0:\n",
        "       V = np.round(np.random.lognormal(mu, sigma, 30),2)\n",
        "   V_outRange = (V > 1) + 0.\n",
        "   V_good = (V < 1) + 0.\n",
        "   V_ok = np.multiply(V, V_good)\n",
        "   V_next = np.round(np.multiply(V_outRange, np.random.lognormal(mu, sigma, 30)),2)\n",
        "   cerc_dmg = V_ok + V_next\n",
        "   if (np.count_nonzero(V > 1)) == 0:\n",
        "       break\n",
        "   i += 1\n",
        "cerc_dmg"
      ],
      "metadata": {
        "colab": {
          "base_uri": "https://localhost:8080/"
        },
        "id": "nz4ByR8lrEmE",
        "outputId": "afa8dc7e-2e4f-41c5-937c-b7d79b5ab8bb"
      },
      "execution_count": 197,
      "outputs": [
        {
          "output_type": "execute_result",
          "data": {
            "text/plain": [
              "array([0.08, 0.32, 0.02, 0.03, 0.44, 0.  , 0.13, 0.05, 0.  , 0.81, 0.  ,\n",
              "       0.95, 0.  , 0.38, 0.01, 0.  , 0.85, 0.01, 0.02, 0.01, 0.98, 0.42,\n",
              "       0.03, 0.22, 0.09, 0.03, 0.01, 0.13, 0.  , 0.44])"
            ]
          },
          "metadata": {},
          "execution_count": 197
        }
      ]
    },
    {
      "cell_type": "code",
      "source": [
        "#Este seria el caso sin truncar, como se observa, hay datos que se salen del rango que se necesita\n",
        "import pandas as pd\n",
        "import numpy as np\n",
        "np.random.seed(2505)\n",
        "cerc_dmg2 = np.random.lognormal(0.08,3.6, 30)\n",
        "cerc_dmg2"
      ],
      "metadata": {
        "colab": {
          "base_uri": "https://localhost:8080/"
        },
        "id": "vMGOxjiUAabr",
        "outputId": "b8c30de9-ed02-478f-9038-4afdca83d18e"
      },
      "execution_count": 198,
      "outputs": [
        {
          "output_type": "execute_result",
          "data": {
            "text/plain": [
              "array([1.53495285e+02, 3.16661445e-01, 2.49207232e-02, 4.17497820e+00,\n",
              "       4.44980589e-01, 7.55289477e+00, 1.31394932e-01, 4.18702473e+01,\n",
              "       2.57198962e+00, 6.06024532e+00, 1.00277876e+00, 7.04867936e+01,\n",
              "       3.34942734e-03, 3.82639807e-01, 1.11587267e-02, 1.06876434e-03,\n",
              "       8.47716772e-01, 1.41241585e-02, 2.08027946e-02, 1.44574690e-02,\n",
              "       3.63382802e+01, 1.25714537e+01, 1.36867772e+00, 4.58456372e+00,\n",
              "       9.13393555e-02, 3.24655985e-02, 4.42708808e+00, 2.85374979e+01,\n",
              "       9.95451218e-01, 4.36131091e-01])"
            ]
          },
          "metadata": {},
          "execution_count": 198
        }
      ]
    },
    {
      "cell_type": "markdown",
      "source": [
        "2. Extraer media, mediana, quartiles y percentiles (desde 5% hasta 95% cada 5)"
      ],
      "metadata": {
        "id": "zeyvUmeaEJbc"
      }
    },
    {
      "cell_type": "code",
      "source": [
        "np.mean(cerc_dmg) ##media"
      ],
      "metadata": {
        "colab": {
          "base_uri": "https://localhost:8080/"
        },
        "id": "0DDrnuuSDvRN",
        "outputId": "ea4cbaad-d578-439b-b98b-32cf2b554d06"
      },
      "execution_count": 199,
      "outputs": [
        {
          "output_type": "execute_result",
          "data": {
            "text/plain": [
              "0.21533333333333332"
            ]
          },
          "metadata": {},
          "execution_count": 199
        }
      ]
    },
    {
      "cell_type": "code",
      "source": [
        "np.median(cerc_dmg) ##mediana"
      ],
      "metadata": {
        "colab": {
          "base_uri": "https://localhost:8080/"
        },
        "id": "MwNQ-G7aD9Ik",
        "outputId": "6cf7efa7-6e02-488c-908c-e9b22be5992b"
      },
      "execution_count": 200,
      "outputs": [
        {
          "output_type": "execute_result",
          "data": {
            "text/plain": [
              "0.04"
            ]
          },
          "metadata": {},
          "execution_count": 200
        }
      ]
    },
    {
      "cell_type": "code",
      "source": [
        "cerc_dmg.max()"
      ],
      "metadata": {
        "colab": {
          "base_uri": "https://localhost:8080/"
        },
        "id": "oZSFbZDknZhF",
        "outputId": "71f7391f-9b02-4db2-de8d-2ec29b3561bb"
      },
      "execution_count": 201,
      "outputs": [
        {
          "output_type": "execute_result",
          "data": {
            "text/plain": [
              "0.98"
            ]
          },
          "metadata": {},
          "execution_count": 201
        }
      ]
    },
    {
      "cell_type": "code",
      "source": [
        "cerc_dmg.min()"
      ],
      "metadata": {
        "colab": {
          "base_uri": "https://localhost:8080/"
        },
        "id": "NuuiYNpankS8",
        "outputId": "444cdd63-bcc9-4190-b54f-969e20ac5c13"
      },
      "execution_count": 202,
      "outputs": [
        {
          "output_type": "execute_result",
          "data": {
            "text/plain": [
              "0.0"
            ]
          },
          "metadata": {},
          "execution_count": 202
        }
      ]
    },
    {
      "cell_type": "code",
      "source": [
        "cerc_dmg_serie = pd.Series(cerc_dmg)\n",
        "cerc_dmg_serie.quantile([0.05, 0.10, 0.15, 0.20,0.25,0.30,0.35,0.40,0.45,0.50,0.55,0.60,0.65,0.70,0.75,0.80,0.85,0.90,0.95,0.97])"
      ],
      "metadata": {
        "colab": {
          "base_uri": "https://localhost:8080/"
        },
        "id": "3RXH6eNna4dE",
        "outputId": "191420af-48b5-414f-931b-3c7c1c4ef278"
      },
      "execution_count": 203,
      "outputs": [
        {
          "output_type": "execute_result",
          "data": {
            "text/plain": [
              "0.05    0.0000\n",
              "0.10    0.0000\n",
              "0.15    0.0000\n",
              "0.20    0.0080\n",
              "0.25    0.0100\n",
              "0.30    0.0100\n",
              "0.35    0.0200\n",
              "0.40    0.0260\n",
              "0.45    0.0300\n",
              "0.50    0.0400\n",
              "0.55    0.0785\n",
              "0.60    0.1060\n",
              "0.65    0.1300\n",
              "0.70    0.2500\n",
              "0.75    0.3650\n",
              "0.80    0.4240\n",
              "0.85    0.4400\n",
              "0.90    0.8140\n",
              "0.95    0.9050\n",
              "0.97    0.9539\n",
              "dtype: float64"
            ]
          },
          "metadata": {},
          "execution_count": 203
        }
      ]
    },
    {
      "cell_type": "markdown",
      "source": [
        "3. Categorizar la variable según la escala diagramtica del *articulo referencia*"
      ],
      "metadata": {
        "id": "oRsapaBrFSoO"
      }
    },
    {
      "cell_type": "code",
      "source": [
        "cat_cerc = []\n",
        "for pe_i in cerc_dmg:\n",
        "  if(pe_i == 0):\n",
        "    cat_cerc.append('0%')\n",
        "  elif(pe_i >0 and pe_i <= 0.02):\n",
        "    cat_cerc.append('2%')\n",
        "  elif(pe_i <= 0.04):\n",
        "    cat_cerc.append('4%')\n",
        "  elif(pe_i <= 0.08):\n",
        "    cat_cerc.append('8%')\n",
        "  elif(pe_i <= 0.12):\n",
        "    cat_cerc.append('12%')\n",
        "  elif(pe_i <= 0.27):\n",
        "    cat_cerc.append('27%')\n",
        "  elif(pe_i <= 0.45):\n",
        "    cat_cerc.append('45%')\n",
        "  elif(pe_i <= 0.71):\n",
        "    cat_cerc.append('71%')\n",
        "  elif(pe_i <= 0.93 and pe_i <1):\n",
        "    cat_cerc.append('93%')\n",
        "\n",
        "cat_cerc_serie = pd.Series(cat_cerc)"
      ],
      "metadata": {
        "id": "-mLm1C7BH6bm"
      },
      "execution_count": 204,
      "outputs": []
    },
    {
      "cell_type": "code",
      "source": [
        "cat_cerc_serie.describe()"
      ],
      "metadata": {
        "colab": {
          "base_uri": "https://localhost:8080/"
        },
        "id": "zh_pYaDmJXRl",
        "outputId": "f3d3f07f-b03b-4fc0-ef33-e6fa37d4b7fc"
      },
      "execution_count": 205,
      "outputs": [
        {
          "output_type": "execute_result",
          "data": {
            "text/plain": [
              "count     28\n",
              "unique     8\n",
              "top       2%\n",
              "freq       6\n",
              "dtype: object"
            ]
          },
          "metadata": {},
          "execution_count": 205
        }
      ]
    },
    {
      "cell_type": "code",
      "source": [
        "cat_cerc_serie.value_counts()"
      ],
      "metadata": {
        "colab": {
          "base_uri": "https://localhost:8080/"
        },
        "id": "5a5JZBjSJnGN",
        "outputId": "d19cee5b-8a60-46e0-f05d-a59b9d07e97e"
      },
      "execution_count": 206,
      "outputs": [
        {
          "output_type": "execute_result",
          "data": {
            "text/plain": [
              "2%     6\n",
              "0%     6\n",
              "45%    5\n",
              "4%     3\n",
              "27%    3\n",
              "8%     2\n",
              "93%    2\n",
              "12%    1\n",
              "dtype: int64"
            ]
          },
          "metadata": {},
          "execution_count": 206
        }
      ]
    },
    {
      "cell_type": "markdown",
      "source": [
        "4. En que posición de debo ubicarme en la escala para estimar la severidad real"
      ],
      "metadata": {
        "id": "Qyeujey0YsZb"
      }
    },
    {
      "cell_type": "code",
      "source": [
        "import seaborn as sns\n",
        "sns.kdeplot(cerc_dmg) ##Solo por suavizado se ve negativo, pero no hay valores negativos"
      ],
      "metadata": {
        "colab": {
          "base_uri": "https://localhost:8080/",
          "height": 283
        },
        "id": "_AoNS41qYttF",
        "outputId": "e1ca1d17-c5a0-4ddd-d93f-5880d125d370"
      },
      "execution_count": 207,
      "outputs": [
        {
          "output_type": "execute_result",
          "data": {
            "text/plain": [
              "<matplotlib.axes._subplots.AxesSubplot at 0x7f89c8416cd0>"
            ]
          },
          "metadata": {},
          "execution_count": 207
        },
        {
          "output_type": "display_data",
          "data": {
            "text/plain": [
              "<Figure size 432x288 with 1 Axes>"
            ],
            "image/png": "[encoded data removed]"
          },
          "metadata": {
            "needs_background": "light"
          }
        }
      ]
    },
    {
      "cell_type": "code",
      "source": [
        "sns.histplot(cerc_dmg)"
      ],
      "metadata": {
        "colab": {
          "base_uri": "https://localhost:8080/",
          "height": 283
        },
        "id": "HReyVz1VZloU",
        "outputId": "469c1aac-c583-44f3-a173-2064a90cbfad"
      },
      "execution_count": 208,
      "outputs": [
        {
          "output_type": "execute_result",
          "data": {
            "text/plain": [
              "<matplotlib.axes._subplots.AxesSubplot at 0x7f89c80efe10>"
            ]
          },
          "metadata": {},
          "execution_count": 208
        },
        {
          "output_type": "display_data",
          "data": {
            "text/plain": [
              "<Figure size 432x288 with 1 Axes>"
            ],
            "image/png": "[encoded data removed]"
          },
          "metadata": {
            "needs_background": "light"
          }
        }
      ]
    },
    {
      "cell_type": "code",
      "source": [
        "cat_cerc_serie.value_counts().plot(kind='bar') ### https://seaborn.pydata.org/generated/seaborn.barplot.html"
      ],
      "metadata": {
        "colab": {
          "base_uri": "https://localhost:8080/",
          "height": 295
        },
        "id": "eOexNEwRZzk8",
        "outputId": "8a3e6c56-5272-4915-9475-a23b9ee144c8"
      },
      "execution_count": 209,
      "outputs": [
        {
          "output_type": "execute_result",
          "data": {
            "text/plain": [
              "<matplotlib.axes._subplots.AxesSubplot at 0x7f89c8026cd0>"
            ]
          },
          "metadata": {},
          "execution_count": 209
        },
        {
          "output_type": "display_data",
          "data": {
            "text/plain": [
              "<Figure size 432x288 with 1 Axes>"
            ],
            "image/png": "[encoded data removed]"
          },
          "metadata": {
            "needs_background": "light"
          }
        }
      ]
    },
    {
      "cell_type": "code",
      "source": [
        "np.mean(cerc_dmg) ##media de los datos sin categorizar"
      ],
      "metadata": {
        "colab": {
          "base_uri": "https://localhost:8080/"
        },
        "id": "Ux7um6M5t-jc",
        "outputId": "81335a59-5eb5-40cc-a7f7-3d215115f6cf"
      },
      "execution_count": 210,
      "outputs": [
        {
          "output_type": "execute_result",
          "data": {
            "text/plain": [
              "0.21533333333333332"
            ]
          },
          "metadata": {},
          "execution_count": 210
        }
      ]
    },
    {
      "cell_type": "code",
      "source": [
        "\n",
        "cont = cat_cerc_serie.value_counts()\n",
        "# Con el punto de corte real\n",
        "frec1 = cont*[0, 2, 4, 8, 12, 27, 45, 93]\n",
        "print(frec1.sum()/30)\n",
        "\n",
        "# Con el punto medio\n",
        "frec2 = cont*[0, 1, 3, 6, 10, 19.5, 36, 69]\n",
        "print(frec2.sum()/30)\n",
        "\n",
        "# Punto percentil 70%\n",
        "frec3 = cont*[0, 1.4, 2.8, 5.6, 8.4, 18.9, 31.5, 65.1]\n",
        "print(frec3.sum()/30)\n",
        "\n",
        "# Punto percentil 5%\n",
        "frec3 = cont*[0, 0.1, 0.2, 0.4, 0.6, 1.35, 2.25, 4.65]\n",
        "print(frec3.sum()/30)\n",
        "\n",
        "#Punto percentil 2%\n",
        "frec4 = cont*[0, 0.04, 0.08, 0.16, 0.24, 0.54, 0.9, 1.86]\n",
        "print(frec4.sum()/30)"
      ],
      "metadata": {
        "colab": {
          "base_uri": "https://localhost:8080/"
        },
        "id": "BNk-CiJedFYE",
        "outputId": "a13da0c2-8944-4e76-f79d-2d08fdef2398"
      },
      "execution_count": 211,
      "outputs": [
        {
          "output_type": "stream",
          "name": "stdout",
          "text": [
            "10.966666666666667\n",
            "8.3\n",
            "7.676666666666666\n",
            "0.5483333333333333\n",
            "0.21933333333333332\n"
          ]
        }
      ]
    }
  ]
}