{
  "nbformat": 4,
  "nbformat_minor": 0,
  "metadata": {
    "colab": {
      "name": "Python1.1_caja_problemas.ipynb",
      "provenance": []
    },
    "kernelspec": {
      "name": "python3",
      "display_name": "Python 3"
    },
    "language_info": {
      "name": "python"
    }
  },
  "cells": [
    {
      "cell_type": "markdown",
      "source": [
        "Construya una funcion que returne la varianza de un conjunto de datos (n ≥ 2)\n",
        "cuando se va incorporando dato a dato. Use como primer par de datos los que se\n",
        "generan de la distribucion normal con µ = 3 y s = 0,3.Use la misma semilla y los\n",
        "mismos parametros de la distribucion para incorporar cada dato. Haga el proceso\n",
        "50 veces y luego grafique la varianza como funcion de n."
      ],
      "metadata": {
        "id": "iABAP2B5zdLx"
      }
    },
    {
      "cell_type": "code",
      "source": [
        "\n",
        "import numpy as np\n",
        "import random\n",
        "import statistics\n",
        "import matplotlib.pyplot as plt\n",
        "%matplotlib inline\n",
        "np.random.seed(1)\n",
        "Ddn1= np.random.normal(3,0.3, 2)\n",
        "varm1=statistics.variance(Ddn1)\n",
        "print(f'La varianza muestral de los primeros 2 datos es {varm1}')\n",
        "np.random.seed(2)\n",
        "Ddn2= np.random.normal(3,0.3, 2)\n",
        "varm2=statistics.variance(Ddn2)\n",
        "print(f'La varianza siguientes 2 datos es {varm2}')\n",
        "np.random.seed(3)\n",
        "Ddn3= np.random.normal(3,0.3, 2)\n",
        "varm3=statistics.variance(Ddn3)\n",
        "print(f'La varianza siguientes 2 datos es {varm3}')\n",
        "np.random.seed(4)\n",
        "Ddn4= np.random.normal(3,0.3, 2)\n",
        "varm4=statistics.variance(Ddn4)\n",
        "print(f'La varianza siguientes 2 datos es {varm4}')\n",
        "np.random.seed(5)\n",
        "Ddn5= np.random.normal(3,0.3, 2)\n",
        "varm5=statistics.variance(Ddn5)\n",
        "print(f'La varianza siguientes 2 datos es {varm5}')\n",
        "\n",
        "Ddn=[Ddn1,Ddn2,Ddn3,Ddn4,Ddn4]\n",
        "print(f'los datos son {Ddn}')\n",
        "\n",
        "varm=[varm1,varm2,varm3,varm4,varm5]\n",
        "print(f'las varianzas son {varm}')\n",
        "\n",
        "Ddnx=[3.48730361, 2.87497265, 3.53658854, 3.01516851, 3.01516851] #Tome el primer dato de cada seed, porque no deja tomar una cantidad diferente de datos en los ejes\n",
        "varmy=[0.14182393613078986, 0.11118787361302858, 0.07506739339190276, 0.05930257406951895, 0.0956674276992087]\n",
        "plt.scatter(Ddnx,varmy);plt.xlabel('Datos distribucion normal');plt.ylabel('Varianza')#grafica\n",
        "\n"
      ],
      "metadata": {
        "colab": {
          "base_uri": "https://localhost:8080/",
          "height": 426
        },
        "id": "KNfh4h3fzgec",
        "outputId": "1fd2a95f-b85c-4fa6-c68f-2eb43e3ba306"
      },
      "execution_count": 78,
      "outputs": [
        {
          "output_type": "stream",
          "name": "stdout",
          "text": [
            "La varianza muestral de los primeros 2 datos es 0.22500680213266996\n",
            "La varianza siguientes 2 datos es 0.005847919903340884\n",
            "La varianza siguientes 2 datos es 0.08227011466991509\n",
            "La varianza siguientes 2 datos es 0.009087796621876669\n",
            "La varianza siguientes 2 datos es 0.026826064371373807\n",
            "los datos son [array([3.48730361, 2.81647308]), array([2.87497265, 2.98311995]), array([3.53658854, 3.13095296]), array([3.01516851, 3.1499854 ]), array([3.01516851, 3.1499854 ])]\n",
            "las varianzas son [0.22500680213266996, 0.005847919903340884, 0.08227011466991509, 0.009087796621876669, 0.026826064371373807]\n"
          ]
        },
        {
          "output_type": "execute_result",
          "data": {
            "text/plain": [
              "Text(0, 0.5, 'Varianza')"
            ]
          },
          "metadata": {},
          "execution_count": 78
        },
        {
          "output_type": "display_data",
          "data": {
            "text/plain": [
              "<Figure size 432x288 with 1 Axes>"
            ],
            "image/png": "[encoded data removed]"
          },
          "metadata": {
            "needs_background": "light"
          }
        }
      ]
    },
    {
      "cell_type": "markdown",
      "source": [
        "La cantidad de radiacion absorbida puede medirse por la transmitancia. La relacion entre transmitancia (T) y absorbancia (A) esta dada por la ley BeerLambert (ley de Beer). Cree una funcion para la expresion que aparece en\n",
        "https://www.electrical4u.com/what-is-transmittance/ y genere unos datos\n",
        "de T para determinar A. Grafique la funcion. Finalmente lea la seccion titulada:\n",
        "✭✭Why is Absorbance the Preferred Unit Over Transmittance?✮✮"
      ],
      "metadata": {
        "id": "vF2kinuq75nZ"
      }
    },
    {
      "cell_type": "code",
      "source": [
        "import numpy as np\n",
        "import random\n",
        "import math\n",
        "import matplotlib.pyplot as plt\n",
        "np.random.seed(12)\n",
        "T= np.random.normal(1,0.5, 40) #transmitancia\n",
        "A=2-np.log10(T) #absorbancia\n",
        "print(f'% de transmitancia {T}')\n",
        "print(f'Absorbancia {A}')\n",
        "\n",
        "plt.scatter(T,A);plt.xlabel('Transmitancia');plt.ylabel('Abosrbancia')#grafica"
      ],
      "metadata": {
        "colab": {
          "base_uri": "https://localhost:8080/",
          "height": 592
        },
        "id": "avo0O67375wp",
        "outputId": "83be248c-e1cf-4f28-f4f8-3531713f6e19"
      },
      "execution_count": 79,
      "outputs": [
        {
          "output_type": "stream",
          "name": "stdout",
          "text": [
            "% de transmitancia [ 1.23649292  0.65928706  1.12121975  0.14963218  1.37657142  0.23263933\n",
            "  1.00256354  0.93988616  0.59650906  2.4359097   0.70108854  1.2362285\n",
            "  1.54797806  0.3924156   1.67117819  0.93892511  1.50625774  0.54306543\n",
            "  0.4852349   1.60489822  1.25093615  1.06942309  1.32038056  1.26366633\n",
            "  0.42281988 -0.10666674  0.15912174  0.10595287 -0.10926747  0.67628461\n",
            "  0.73579784  0.98039541  1.10748797  0.8078206   0.87304796  1.03662604\n",
            "  0.50139808  0.64307186  1.01770817  0.66102732]\n",
            "Absorbancia [1.90780837 2.18092545 1.95030926 2.82497499 1.86120125 2.63331686\n",
            " 1.99888809 2.02692474 2.22438296 1.61333882 2.15422713 1.90790125\n",
            " 1.8102352  2.40625374 1.77697724 2.02736905 1.82210071 2.26514784\n",
            " 2.31404797 1.7945525  1.90276486 1.97085044 1.87930088 1.89836759\n",
            " 2.3738446         nan 2.79827047 2.97488726        nan 2.1698705\n",
            " 2.13324149 2.00859873 1.95566098 2.09268508 2.0589619  1.98437789\n",
            " 2.29981733 2.1917405  1.99237674 2.17978059]\n"
          ]
        },
        {
          "output_type": "stream",
          "name": "stderr",
          "text": [
            "/usr/local/lib/python3.7/dist-packages/ipykernel_launcher.py:7: RuntimeWarning: invalid value encountered in log10\n",
            "  import sys\n"
          ]
        },
        {
          "output_type": "execute_result",
          "data": {
            "text/plain": [
              "Text(0, 0.5, 'Abosrbancia')"
            ]
          },
          "metadata": {},
          "execution_count": 79
        },
        {
          "output_type": "display_data",
          "data": {
            "text/plain": [
              "<Figure size 432x288 with 1 Axes>"
            ],
            "image/png": "[encoded data removed]"
          },
          "metadata": {
            "needs_background": "light"
          }
        }
      ]
    }
  ]
}