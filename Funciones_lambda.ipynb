{
  "nbformat": 4,
  "nbformat_minor": 0,
  "metadata": {
    "colab": {
      "name": "Funciones lambda.ipynb",
      "provenance": []
    },
    "kernelspec": {
      "name": "python3",
      "display_name": "Python 3"
    },
    "language_info": {
      "name": "python"
    }
  },
  "cells": [
    {
      "cell_type": "markdown",
      "source": [
        "Asignación\n",
        "Reproduccir la siguiente pagina [ACF - Python](https://www.alpharithms.com/autocorrelation-time-series-python-432909/)\n"
      ],
      "metadata": {
        "id": "S4mRBh4hPSJ7"
      }
    },
    {
      "cell_type": "markdown",
      "source": [
        "#Autocorrelación de datos de series temporales en Python\n",
        "\n",
        "![](https://www.alpharithms.com/wp-content/uploads/977/autocorrelation-python-banner-1600x900.jpg)\n",
        "\n",
        "La autocorrelación (ACF) es un valor calculado que se usa para representar qué tan similar es un valor dentro de una serie de tiempo a un valor anterior. La biblioteca Statsmoldels simplifica mucho el cálculo de la autocorrelación en Python. Con unas pocas líneas de código, se pueden obtener conocimientos prácticos sobre los valores observados en los datos de series temporales. El ACF se puede utilizar para identificar tendencias en los datos y la influencia de los valores observados anteriormente en una observación actual. Las aplicaciones del ACF son amplias, pero sobre todo se pueden utilizar para el procesamiento de señales, la previsión meteorológica y el análisis de valores. ¡A veces, incluso puedes descubrir tendencias ocultas que son cualquier cosa menos intuitivas! \n",
        "\n",
        "**TL; DR** : encontrar la autocorrelación en Python para datos de series temporales es fácil cuando se usa el `statsmodels plot_acf` funcionar como tal:\n",
        "\n",
        "**Tabla de contenido**\n",
        "\n",
        "\n",
        "1.   Introduccion\n",
        "2.   Calculo de la autorrelacion en Python\n",
        "3.   Paso 1: Obtener datos de series temporales\n",
        "4. Paso 2:\n",
        "5. Paso 3:\n",
        "6. Paso 4:\n",
        "7. Paso 5: \n",
        "8. Aplicaciones\n",
        "\n",
        "> 8.1 Datos de mareas\n",
        "\n",
        ">8.2 Contaminacion del aire\n",
        "\n",
        "9. Limitaciones\n",
        "\n",
        ">9.1 Demasiada informacion retenida\n",
        "\n",
        "10. Consideraciones finales\n",
        "11. Referencias\n",
        "\n",
        "\n"
      ],
      "metadata": {
        "id": "V7Kyq0qUIp9a"
      }
    },
    {
      "cell_type": "code",
      "source": [
        "import pandas as pd\n",
        "from matplotlib import pyplot as plt\n",
        "from statsmodels.graphics.tsaplots import plot_acf\n",
        "# Have some time series data (via pandas)\n",
        "data = pd.read_csv('time-series.csv')\n",
        "# Select relevant data, index by Date\n",
        ">>> data = data[['Date', 'Observations']].set_index(['Date'])\n",
        "# Calculate the ACF (via statsmodel)\n",
        ">>> plot_acf(data)\n",
        "# Show the data as a plot (via matplotlib)\n",
        "plt.show()"
      ],
      "metadata": {
        "id": "cSdmzZlvJLHa"
      },
      "execution_count": null,
      "outputs": []
    },
    {
      "cell_type": "markdown",
      "source": [
        "# 1. Introducción\n",
        "La autocorrelación, también llamada  correlación en serie , es utilizada por comerciantes de acciones, meteorólogos, químicos y más para pronosticar valores futuros dados datos históricos de series temporales. Ese es un aspecto crucial para calcular tanto la autocorrelación como las autocorrelaciones parciales: datos anteriores. Este tipo de análisis regresivo se utiliza para ayudar a predecir precios futuros dentro de un intervalo de confianza (típicamente 95%) y relaciona un valor actual con los anteriores.\n",
        "\n",
        "La autocorrelación estima la influencia de todos los valores observados en el pasado sobre el valor observado actualmente. Esto difiere de la autocorrelación parcial en la que solo se mide un único valor observado en el pasado para determinar la influencia en el valor observado actualmente.\n",
        "\n",
        "#2. Cálculo de la autocorrelacíon en Python\n",
        "Aprender a encontrar la autocorrelación en Python es bastante simple, pero con algunas consideraciones adicionales, veremos cómo y dónde se puede aplicar esta función y dónde y cuándo puede fallar. Primero, repasemos algunas definiciones rápidas:\n",
        "\n",
        "**01: Retraso** : el número de observaciones anteriores medidas durante la autocorrelación.\n",
        "\n",
        "**02: Correlación positiva** : una relación en la que el aumento de un valor predice un aumento en otro.\n",
        "\n",
        "**03: Correlación negativa** : una relación en la que el aumento de un valor predice una disminución en otro.\n",
        "\n",
        "**04: Intervalo de confianza** : un rango calculado de valores en el que probablemente contendría un valor desconocido para los datos muestreados.\n",
        "\n",
        "**05: Nivel de confianza** : probabilidad de que un intervalo de confianza contenga un valor observado.\n",
        "\n",
        "Comprender estos términos no es esencial para crear un gráfico de autocorrelación en Python, ¡pero mejorará en gran medida nuestra capacidad para interpretar ese gráfico! En este artículo, usaremos el`statsmodel`función plot_acf de la biblioteca para analizar datos de series temporales y trazar la función de autocorrelación. estaremos usando`Pandas`,`Statsmodel`,`matplotlib`, por supuesto, ¡Python!\n",
        "\n",
        "**Nota** : Para una discusión más profunda, más matemática, sobre cómo calcular los valores de autocorrelación, sugiero leer este artículo . Nuestra discusión aquí no tocará los puntos más finos del cálculo de la función ACF y más sobre la representación visual y la interpretación\n",
        "\n",
        "#3. Paso 1: Obtener datos de series temporales\n",
        "\n",
        "El primer paso es obvio: necesitamos obtener algunos datos. La generación de datos de series temporales aleatorias puede ser una herramienta útil para explorar herramientas de análisis como`statsmodels`y`matplotlib`. Sin embargo, los datos generados aleatoriamente no reflejarán las tendencias que aparecerán en el análisis autorregresivo. Teniendo en cuenta este conocimiento, utilizaremos datos históricos de acciones de $TSLA para este artículo. Echemos un vistazo a nuestros datos:"
      ],
      "metadata": {
        "id": "GpfoWelyTKCS"
      }
    },
    {
      "cell_type": "code",
      "source": [
        "import pandas as pd\n",
        "# Read in CSV data to Dataframe\n",
        "df = pd.read_csv('TSLA.csv')\n",
        "# Drop all columns but 'Date' and 'Adj Close', reindex using 'Date'\n",
        "df = df[['Date', 'Adj Close']].set_index(['Date'])\n",
        "# View data\n",
        ">>> df\n",
        "             Adj Close\n",
        "Date                  \n",
        "2020-01-02   86.052002\n",
        "2020-01-03   88.601997\n",
        "2020-01-06   90.307999\n",
        "2020-01-07   93.811996\n",
        "2020-01-08   98.428001\n",
        "...                ...\n",
        "2021-06-23  656.570007\n",
        "2021-06-24  679.820007\n",
        "2021-06-25  671.869995\n",
        "2021-06-28  688.719971\n",
        "2021-06-29  680.760010\n",
        "[376 rows x 1 columns]"
      ],
      "metadata": {
        "id": "3IYn3zQiWXjZ"
      },
      "execution_count": null,
      "outputs": []
    },
    {
      "cell_type": "markdown",
      "source": [
        "**Nota** : Los datos de precios históricos provienen de finance.yahoo.com , pero también se pueden descargar desde Github aquí .\n",
        "\n",
        "Como podemos ver, ahora tenemos 376 precios registrados desde el 01-01-2020 hasta el 30-06-2021, lo que refleja un aumento porcentual del 691,103%. No está mal: si tan solo hubiéramos estado haciendo algo de autocorrelación a principios de 2020, ¡podríamos haber estado surfeando esa ola!\n",
        "\n",
        "#Paso 2: Inspeccionar y limpiar datos\n",
        "Antes de realizar una autocorrelación en nuestra serie temporal, debemos inspeccionar los datos en busca de valores faltantes. Afortunadamente, Pandas ofrece varias herramientas convenientes para encontrar y reemplazar valores faltantes en datos de series temporales. No entraremos en todas las opciones y consideraciones para tal operación en este artículo. En cambio, hagamos una verificación rápida para ver si faltan valores:"
      ],
      "metadata": {
        "id": "uJOnW4adXNOp"
      }
    },
    {
      "cell_type": "code",
      "source": [
        "# Comprobar si hay valores nulos o NaN en los datos\n",
        ">>> df. es nulo () . suma ()\n",
        "# Resultado\n",
        "Ajustar cerrar     0\n",
        "tipo: int64"
      ],
      "metadata": {
        "id": "i86TJP4AXchR"
      },
      "execution_count": null,
      "outputs": []
    },
    {
      "cell_type": "markdown",
      "source": [
        "Al usar Panda `isnull().sum()`método se nos dice que nuestra única columna sin índice Adj Close contiene cero`null`o `NaN` valores. Esto significa que podemos pasar al siguiente paso y comenzar a visualizar nuestros datos.\n",
        "\n",
        "**Nota** : consulte este artículo para obtener una discusión detallada sobre otras formas de encontrar y reemplazar datos faltantes usando Pandas.\n",
        "\n",
        "#Paso 3: Visualizar datos\n",
        "Antes de calcular una autocorrelación, será útil comprender cómo se ven visualmente nuestros datos. Esto puede ayudar a detectar posibles tendencias, informarnos si es probable que los datos no tengan una correlación lineal o hacer evidente una serie de otros problemas que podrían afectar la forma en que elegimos avanzar.\n",
        "En algunos casos, visualizar los datos puede ayudarnos a darnos cuenta de que debemos dar un paso atrás y reevaluar nuestras prácticas de inspección y limpiar mejor los datos. Para este paso, usaremos un diagrama de línea simple a través `matplotlib`:\n",
        "\n",
        "![](https://www.alpharithms.com/wp-content/uploads/977/tsla-time-series-plot-1.jpg)\n",
        "\n",
        "Esto nos permite saber que nuestros datos reflejan una tendencia ascendente constante que habíamos adivinado después de calcular el aumento porcentual de nuestros valores anteriormente. Dado que no hay caídas masivas en los valores graficados, diría que nuestra verificación de datos faltantes fue exitosa. ¡Ahora podemos pasar a la autocorrelación!\n",
        "\n",
        "#Paso 4: Realizar Autocorrelación y Visualización\n",
        "Ahora que tenemos confianza en nuestros datos, podemos proceder a generar una visualización de autocorrelación usando`statsmodel`,`pandas`,`matplotlib`, y `Python` Estos módulos se han abstraído en gran medida y todo este proceso se puede realizar en solo unas pocas líneas de código:"
      ],
      "metadata": {
        "id": "hwU5rOaOXfYZ"
      }
    },
    {
      "cell_type": "code",
      "source": [
        "from statsmodels.graphics.tsaplots import plot_acf\n",
        "import matplotlib.pyplot as plt\n",
        "# Use the Autocorrelation function\n",
        "# from the statsmodel library passing\n",
        "# our DataFrame object in as the data\n",
        "# Note: Limiting Lags to 50\n",
        "plot_acf(data=data, lags=50)\n",
        "# Show the AR as a plot\n",
        "plt.show()"
      ],
      "metadata": {
        "id": "ZyQWuKGCYHWJ"
      },
      "execution_count": null,
      "outputs": []
    },
    {
      "cell_type": "markdown",
      "source": [
        "Vemos que se necesitan dos importaciones:`pyploty` y `statsmodels` `plot_acf`unción para crear la visualización. Afortunadamente, estas dos bibliotecas funcionan bien juntas y el`pyplot`el gráfico está implícitamente referenciado. Esto da como resultado la siguiente trama:\n",
        "\n",
        "![](https://www.alpharithms.com/wp-content/uploads/977/python-autocorrelation-plot-raw-data.jpg)\n",
        "\n",
        "¡Esto parece bastante interesante pero en última instancia no ofrece mucha utilidad sin saber cómo leerlo! La región sombreada en rojo es el intervalo de confianza con un valor predeterminado de α = 0,05. Cualquier cosa dentro de este rango representa un valor que no tiene una correlación significativa con el valor más reciente del precio.\n",
        "\n",
        "Las líneas verticales con marcadores en su parte superior son los \"retrasos\" que representan un número específico (50, en este caso) de valores anteriores. Estos representan el valor de correlación (que se muestra en el eje y) y disminuyen a un ritmo constante a medida que aumenta su proximidad al precio actual. Ese no es el caso con  todos los datos, pero sí con los nuestros.\n",
        "\n",
        "#Paso 5: Interpretación de la Autocorrelación\n",
        "Esto nos permite saber que los precios anteriores influyen en el precio actual, pero la importancia de esa influencia disminuye constantemente con el tiempo. Específicamente, los valores más allá del día 36 de negociación anterior no tienen un poder predictivo significativo sobre el precio actual.\n",
        "\n",
        "La fuerza de esta relación se mide en una escala de -1 a 1, siendo -1 una correlación negativa del 100 % y siendo 1 una correlación positiva del 100 %. Esta medida se muestra en el eje y. Considere el siguiente diagrama para una interpretación más visual:\n",
        "\n",
        "![](https://www.alpharithms.com/wp-content/uploads/977/autocorrelation-anatomy-python-1024x576.jpg)\n",
        "\n",
        "#Aplicaciones\n",
        "Hemos visto con qué facilidad se pueden visualizar los datos de autocorrelación usando la biblioteca. Hemos visto cómo interpretar estas representaciones visuales para [con suerte] obtener información sobre patrones más profundos reflejados en ciertos datos observables. Nuestros datos de precios históricos para $TSLA no fueron muy emocionantes, aunque ilustraron que los precios de cierre anteriores están relacionados con los precios de cierre actuales. Consideremos algunos datos más emocionantes y reveladores\n",
        "\n",
        "**Datos de mareas**\n",
        "Los datos meteorológicos son una aplicación común para el análisis de autocorrelación. Las influencias estacionales, regionales e incluso diarias pueden revelarse dramáticamente mediante representaciones visuales del análisis de autocorrelación. Aquí hay un vistazo a los datos de mareas medidos cada seis minutos:\n",
        "\n",
        "![](https://www.alpharithms.com/wp-content/uploads/977/hourly-water-levels-wilimington.jpg)\n",
        "\n",
        "Cada punto de datos representa una medida del nivel del agua registrada en intervalos de 6 minutos (240 por día). Aquí vemos surgir una fuerte tendencia de correlación positiva y negativa. Esto es representativo de lo que esperaríamos dado lo que se ha observado durante décadas de estudio de las mareas.\n",
        "\n",
        "**La contaminación del aire**\n",
        "\n",
        "La contaminación del aire es otra aplicación común para la autocorrelación. Si bien los datos de mareas representan una periodicidad muy conocida, estos datos a menudo reflejan patrones estacionales con menos datos para predecir la frecuencia o la fuerza de la correlación. El cuadro a continuación describe los niveles máximos de CO2 observados en 8 horas para el condado de Los Ángeles, California, de 2017 a 2020.\n",
        "\n",
        "![](https://www.alpharithms.com/wp-content/uploads/977/co2-levels-la-county-autoregression.jpg)\n",
        "\n",
        "Vemos aquí que, si bien no tiene importancia estadística, existe un fuerte patrón observable en el que los valores pasados ​​pueden usarse para pronosticar valores futuros. Estos datos han sido remuestreados para reflejar los promedios mensuales. En este caso, los valores de retraso de 6 a 7 meses reflejan una fuerte correlación negativa y los valores de retraso de 6 a 7 meses reflejan una fuerte correlación positiva.\n",
        "\n",
        "#Limitaciones\n",
        "La autocorrelación es una herramienta útil para detectar patrones de periodicidad, estacionalidad u otras fuentes de influencia menos intuitivas. Ninguna técnica de pronóstico es perfecta y la autocorrelación no es una excepción. Algunas áreas bien conocidas en las que la autocorrelación puede fallar se enumeran a continuación:\n",
        "\n",
        "**Demasiada información retenida**\n",
        "En el procesamiento de señales, los datos a menudo representan cambios sutiles o artefactos generados durante la observación. Aplicaciones como el reconocimiento de patrones de voz, el análisis de radiofrecuencia y el análisis de rayos X generan cantidades masivas de ruido. Estos puntos de datos pueden sesgar las métricas de correlación, de modo que un modelo de autocorrelación podría encontrar una influencia falsa o no capturar una influencia positiva (Fukushima, 1985; Willink, 2013)\n",
        "\n",
        "#Consideraciones finales\n",
        "La autocorrelación es una herramienta útil para identificar relaciones estadísticamente significativas entre valores observados en datos lineales. Hemos visto cómo el ACF es útil para identificar tendencias estacionales o naturales, cómo se puede aplicar al análisis técnico de los datos de precios de acciones e incluso notamos algunas de sus deficiencias.\n",
        "\n",
        "También hemos visto cómo el ACF se puede calcular y visualizar de manera rápida y efectiva en Python. Tener este tipo de herramienta estadística a mano puede ayudar a analizar e interpretar mejor los datos de manera que ayude a tomar decisiones mejor informadas. Por ejemplo, organizar su festival al aire libre en Los Ángeles cuando sus datos indican que los niveles de contaminación del aire serían más bajos.\n",
        "\n",
        "#Referencias\n",
        "**01:** Willink, Tricia J. \"Límites en la estimación de matrices de autocorrelación a partir de mediciones MIMO móviles\". Revista Internacional de Antenas y Propagación , vol. 2013, 2013, págs. 1 a 6.\n",
        "\n",
        "**02:**Fukushima, Teiichiro, et al. \"Limitaciones de la autocorrelación en la monitorización de la frecuencia cardíaca fetal\". Revista americana de obstetricia y ginecología , vol. 153, núm. 6, 1985, págs. 685–92.\n"
      ],
      "metadata": {
        "id": "MS8uc6fDYXaB"
      }
    },
    {
      "cell_type": "markdown",
      "source": [
        "\n",
        "\n",
        "---\n",
        "#Codigo funcional de la pagina [ACF - Python](https://www.alpharithms.com/autocorrelation-time-series-python-432909/) con datos de precipitacion del 2021 en Mosquera, Cundinamarca\n"
      ],
      "metadata": {
        "id": "SbZvkL3OcZx2"
      }
    },
    {
      "cell_type": "code",
      "source": [
        "import pandas as pd\n",
        "from matplotlib import pyplot as plt\n",
        "from statsmodels.graphics.tsaplots import plot_acf\n",
        "# Have some time series data (via pandas)\n",
        "data = pd.read_csv('time-series.csv')\n",
        "# Select relevant data, index by Date\n",
        ">>> data = data[['Date', 'Observations']].set_index(['Date'])\n",
        "# Calculate the ACF (via statsmodel)\n",
        ">>> plot_acf(data)\n",
        "# Show the data as a plot (via matplotlib)\n",
        "plt.show()\n",
        "\n",
        "\n",
        "import pandas as pd\n",
        "# Read in CSV data to Dataframe\n",
        "df = pd.read_csv('TSLA.csv')\n",
        "# Drop all columns but 'Date' and 'Adj Close', reindex using 'Date'\n",
        "df = df[['Date', 'Adj Close']].set_index(['Date'])\n",
        "# View data\n",
        ">>> df\n",
        "             Adj Close\n",
        "Date                  \n",
        "2020-01-02   86.052002\n",
        "2020-01-03   88.601997\n",
        "2020-01-06   90.307999\n",
        "2020-01-07   93.811996\n",
        "2020-01-08   98.428001\n",
        "...                ...\n",
        "2021-06-23  656.570007\n",
        "2021-06-24  679.820007\n",
        "2021-06-25  671.869995\n",
        "2021-06-28  688.719971\n",
        "2021-06-29  680.760010\n",
        "[376 rows x 1 columns]\n",
        "\n",
        "# Check if any null or NaN values in data\n",
        ">>> df.isnull().sum()\n",
        "# Result\n",
        "Adj Close    0\n",
        "dtype: int64\n",
        "\n",
        "from statsmodels.graphics.tsaplots import plot_acf\n",
        "import matplotlib.pyplot as plt\n",
        "# Use the Autocorrelation function\n",
        "# from the statsmodel library passing\n",
        "# our DataFrame object in as the data\n",
        "# Note: Limiting Lags to 50\n",
        "plot_acf(data=data, lags=50)\n",
        "# Show the AR as a plot\n",
        "plt.show()"
      ],
      "metadata": {
        "id": "_Bgk62kucu0x"
      },
      "execution_count": null,
      "outputs": []
    },
    {
      "cell_type": "code",
      "source": [
        "import pandas as pd\n",
        "from matplotlib import pyplot as plt\n",
        "from statsmodels.graphics.tsaplots import plot_acf\n",
        "df=pd.read_excel ('/content/drive/MyDrive/Datos marengo 2021/Precipitacion diaria mosquera 2021.xlsx')\n",
        "df = df[['Fecha', 'Valor']].set_index(['Fecha'])\n",
        "df\n",
        "df.isnull().sum()\n",
        "plot_acf(df)\n",
        "plt.show\n",
        "\n",
        "##En este caso se puede observar que los datos de precipitacion diaria no estan autocorrelacionados a nivel del año 2021 (unico año analizado), ya que no se observa que los valores esten cercanos a 1(correlacion positiva) o -1(correlacion negativa)"
      ],
      "metadata": {
        "colab": {
          "base_uri": "https://localhost:8080/",
          "height": 300
        },
        "id": "HmuKkC-fQuVy",
        "outputId": "296138bb-8f64-4375-b892-29b97f2a8376"
      },
      "execution_count": 38,
      "outputs": [
        {
          "output_type": "execute_result",
          "data": {
            "text/plain": [
              "<function matplotlib.pyplot.show>"
            ]
          },
          "metadata": {},
          "execution_count": 38
        },
        {
          "output_type": "display_data",
          "data": {
            "text/plain": [
              "<Figure size 432x288 with 1 Axes>"
            ],
            "image/png": "[encoded data removed]"
          },
          "metadata": {
            "needs_background": "light"
          }
        }
      ]
    },
    {
      "cell_type": "markdown",
      "source": [
        "#Convertir ºC a Kelvin"
      ],
      "metadata": {
        "id": "ZZWBagdbptLT"
      }
    },
    {
      "cell_type": "code",
      "source": [
        "CaK=lambda numero: numero+273.15\n",
        "CaK(20)"
      ],
      "metadata": {
        "colab": {
          "base_uri": "https://localhost:8080/",
          "height": 0
        },
        "id": "NdcBoOy8PX1y",
        "outputId": "50710983-3fb0-485e-9e72-cb08720327d0"
      },
      "execution_count": 46,
      "outputs": [
        {
          "output_type": "execute_result",
          "data": {
            "text/plain": [
              "293.15"
            ]
          },
          "metadata": {},
          "execution_count": 46
        }
      ]
    },
    {
      "cell_type": "markdown",
      "source": [
        "#Calcular el CV"
      ],
      "metadata": {
        "id": "BdYjaZnap39i"
      }
    },
    {
      "cell_type": "code",
      "source": [
        "import numpy as np\n",
        "CV= lambda x: np.std(x,ddof=1)/np.mean(x)*100\n",
        "data = [12, 16, 13, 16, 17, 21, 11, 15, 14, 18, 22, 9, 8, 7, 19, 14]\n",
        "CV(data)"
      ],
      "metadata": {
        "colab": {
          "base_uri": "https://localhost:8080/",
          "height": 0
        },
        "id": "GFIr7gv7p515",
        "outputId": "d0fcad93-5060-44e8-b524-6a36546e3cd6"
      },
      "execution_count": 45,
      "outputs": [
        {
          "output_type": "execute_result",
          "data": {
            "text/plain": [
              "30.428307324642383"
            ]
          },
          "metadata": {},
          "execution_count": 45
        }
      ]
    },
    {
      "cell_type": "markdown",
      "source": [
        "#Seleccionar un tamaño de muestra"
      ],
      "metadata": {
        "id": "EysJ1pZgqGia"
      }
    },
    {
      "cell_type": "code",
      "source": [
        "\n",
        "################## matriz de datos\n",
        "import pandas as pd\n",
        "import numpy as np\n",
        "def prog(r, n, a1):\n",
        "  an = a1 + r*(n-1)\n",
        "  seq = np.arange(start=a1, stop=an, step=r)\n",
        "  return seq\n",
        "\n",
        "prog(r=7, n=20, a1=15)\n",
        "np.random.seed(472)\n",
        "\n",
        "df = pd.DataFrame({\n",
        "    'x': np.sort(np.random.normal(loc = 4, scale = 1, size=96)),\n",
        "    'y': np.sort(np.random.normal(loc=4.5, scale=1.2, size=96)),\n",
        "})\n",
        "#########################\n",
        "\n",
        "Muestra=lambda x:df.sample(n=x)\n",
        "Muestra(12)"
      ],
      "metadata": {
        "colab": {
          "base_uri": "https://localhost:8080/",
          "height": 425
        },
        "id": "aTuaJjpyqML6",
        "outputId": "bd1ee58a-8d4d-40a5-d6e3-33b33f573f3e"
      },
      "execution_count": 44,
      "outputs": [
        {
          "output_type": "execute_result",
          "data": {
            "text/plain": [
              "           x         y\n",
              "72  4.574063  5.124028\n",
              "85  5.290240  5.918715\n",
              "88  5.668290  6.275213\n",
              "7   2.807086  2.439520\n",
              "35  3.657533  3.873315\n",
              "16  3.189569  3.271792\n",
              "69  4.484093  5.088295\n",
              "54  4.046274  4.500201\n",
              "79  5.008548  5.469825\n",
              "13  3.080553  2.931073\n",
              "47  3.934366  4.293883\n",
              "51  4.011612  4.471950"
            ],
            "text/html": [
              "\n",
              "  <div id=\"df-8958c17f-7751-480d-8afd-89031c672b51\">\n",
              "    <div class=\"colab-df-container\">\n",
              "      <div>\n",
              "<style scoped>\n",
              "    .dataframe tbody tr th:only-of-type {\n",
              "        vertical-align: middle;\n",
              "    }\n",
              "\n",
              "    .dataframe tbody tr th {\n",
              "        vertical-align: top;\n",
              "    }\n",
              "\n",
              "    .dataframe thead th {\n",
              "        text-align: right;\n",
              "    }\n",
              "</style>\n",
              "<table border=\"1\" class=\"dataframe\">\n",
              "  <thead>\n",
              "    <tr style=\"text-align: right;\">\n",
              "      <th></th>\n",
              "      <th>x</th>\n",
              "      <th>y</th>\n",
              "    </tr>\n",
              "  </thead>\n",
              "  <tbody>\n",
              "    <tr>\n",
              "      <th>72</th>\n",
              "      <td>4.574063</td>\n",
              "      <td>5.124028</td>\n",
              "    </tr>\n",
              "    <tr>\n",
              "      <th>85</th>\n",
              "      <td>5.290240</td>\n",
              "      <td>5.918715</td>\n",
              "    </tr>\n",
              "    <tr>\n",
              "      <th>88</th>\n",
              "      <td>5.668290</td>\n",
              "      <td>6.275213</td>\n",
              "    </tr>\n",
              "    <tr>\n",
              "      <th>7</th>\n",
              "      <td>2.807086</td>\n",
              "      <td>2.439520</td>\n",
              "    </tr>\n",
              "    <tr>\n",
              "      <th>35</th>\n",
              "      <td>3.657533</td>\n",
              "      <td>3.873315</td>\n",
              "    </tr>\n",
              "    <tr>\n",
              "      <th>16</th>\n",
              "      <td>3.189569</td>\n",
              "      <td>3.271792</td>\n",
              "    </tr>\n",
              "    <tr>\n",
              "      <th>69</th>\n",
              "      <td>4.484093</td>\n",
              "      <td>5.088295</td>\n",
              "    </tr>\n",
              "    <tr>\n",
              "      <th>54</th>\n",
              "      <td>4.046274</td>\n",
              "      <td>4.500201</td>\n",
              "    </tr>\n",
              "    <tr>\n",
              "      <th>79</th>\n",
              "      <td>5.008548</td>\n",
              "      <td>5.469825</td>\n",
              "    </tr>\n",
              "    <tr>\n",
              "      <th>13</th>\n",
              "      <td>3.080553</td>\n",
              "      <td>2.931073</td>\n",
              "    </tr>\n",
              "    <tr>\n",
              "      <th>47</th>\n",
              "      <td>3.934366</td>\n",
              "      <td>4.293883</td>\n",
              "    </tr>\n",
              "    <tr>\n",
              "      <th>51</th>\n",
              "      <td>4.011612</td>\n",
              "      <td>4.471950</td>\n",
              "    </tr>\n",
              "  </tbody>\n",
              "</table>\n",
              "</div>\n",
              "      <button class=\"colab-df-convert\" onclick=\"convertToInteractive('df-8958c17f-7751-480d-8afd-89031c672b51')\"\n",
              "              title=\"Convert this dataframe to an interactive table.\"\n",
              "              style=\"display:none;\">\n",
              "        \n",
              "  <svg xmlns=\"http://www.w3.org/2000/svg\" height=\"24px\"viewBox=\"0 0 24 24\"\n",
              "       width=\"24px\">\n",
              "    <path d=\"M0 0h24v24H0V0z\" fill=\"none\"/>\n",
              "    <path d=\"M18.56 5.44l.94 2.06.94-2.06 2.06-.94-2.06-.94-.94-2.06-.94 2.06-2.06.94zm-11 1L8.5 8.5l.94-2.06 2.06-.94-2.06-.94L8.5 2.5l-.94 2.06-2.06.94zm10 10l.94 2.06.94-2.06 2.06-.94-2.06-.94-.94-2.06-.94 2.06-2.06.94z\"/><path d=\"M17.41 7.96l-1.37-1.37c-.4-.4-.92-.59-1.43-.59-.52 0-1.04.2-1.43.59L10.3 9.45l-7.72 7.72c-.78.78-.78 2.05 0 2.83L4 21.41c.39.39.9.59 1.41.59.51 0 1.02-.2 1.41-.59l7.78-7.78 2.81-2.81c.8-.78.8-2.07 0-2.86zM5.41 20L4 18.59l7.72-7.72 1.47 1.35L5.41 20z\"/>\n",
              "  </svg>\n",
              "      </button>\n",
              "      \n",
              "  <style>\n",
              "    .colab-df-container {\n",
              "      display:flex;\n",
              "      flex-wrap:wrap;\n",
              "      gap: 12px;\n",
              "    }\n",
              "\n",
              "    .colab-df-convert {\n",
              "      background-color: #E8F0FE;\n",
              "      border: none;\n",
              "      border-radius: 50%;\n",
              "      cursor: pointer;\n",
              "      display: none;\n",
              "      fill: #1967D2;\n",
              "      height: 32px;\n",
              "      padding: 0 0 0 0;\n",
              "      width: 32px;\n",
              "    }\n",
              "\n",
              "    .colab-df-convert:hover {\n",
              "      background-color: #E2EBFA;\n",
              "      box-shadow: 0px 1px 2px rgba(60, 64, 67, 0.3), 0px 1px 3px 1px rgba(60, 64, 67, 0.15);\n",
              "      fill: #174EA6;\n",
              "    }\n",
              "\n",
              "    [theme=dark] .colab-df-convert {\n",
              "      background-color: #3B4455;\n",
              "      fill: #D2E3FC;\n",
              "    }\n",
              "\n",
              "    [theme=dark] .colab-df-convert:hover {\n",
              "      background-color: #434B5C;\n",
              "      box-shadow: 0px 1px 3px 1px rgba(0, 0, 0, 0.15);\n",
              "      filter: drop-shadow(0px 1px 2px rgba(0, 0, 0, 0.3));\n",
              "      fill: #FFFFFF;\n",
              "    }\n",
              "  </style>\n",
              "\n",
              "      <script>\n",
              "        const buttonEl =\n",
              "          document.querySelector('#df-8958c17f-7751-480d-8afd-89031c672b51 button.colab-df-convert');\n",
              "        buttonEl.style.display =\n",
              "          google.colab.kernel.accessAllowed ? 'block' : 'none';\n",
              "\n",
              "        async function convertToInteractive(key) {\n",
              "          const element = document.querySelector('#df-8958c17f-7751-480d-8afd-89031c672b51');\n",
              "          const dataTable =\n",
              "            await google.colab.kernel.invokeFunction('convertToInteractive',\n",
              "                                                     [key], {});\n",
              "          if (!dataTable) return;\n",
              "\n",
              "          const docLinkHtml = 'Like what you see? Visit the ' +\n",
              "            '<a target=\"_blank\" href=https://colab.research.google.com/notebooks/data_table.ipynb>data table notebook</a>'\n",
              "            + ' to learn more about interactive tables.';\n",
              "          element.innerHTML = '';\n",
              "          dataTable['output_type'] = 'display_data';\n",
              "          await google.colab.output.renderOutput(dataTable, element);\n",
              "          const docLink = document.createElement('div');\n",
              "          docLink.innerHTML = docLinkHtml;\n",
              "          element.appendChild(docLink);\n",
              "        }\n",
              "      </script>\n",
              "    </div>\n",
              "  </div>\n",
              "  "
            ]
          },
          "metadata": {},
          "execution_count": 44
        }
      ]
    },
    {
      "cell_type": "markdown",
      "source": [
        "#Convertir absorbancia en transmitancia (%)"
      ],
      "metadata": {
        "id": "og4oJDgQqMbB"
      }
    },
    {
      "cell_type": "code",
      "source": [
        "TaA=lambda A:10**(2-A)\n",
        "TaA(0.5)"
      ],
      "metadata": {
        "colab": {
          "base_uri": "https://localhost:8080/",
          "height": 0
        },
        "id": "37pHNYzDqOzp",
        "outputId": "3e3de702-1268-4e3d-900c-6442f964c5b6"
      },
      "execution_count": 54,
      "outputs": [
        {
          "output_type": "execute_result",
          "data": {
            "text/plain": [
              "31.622776601683793"
            ]
          },
          "metadata": {},
          "execution_count": 54
        }
      ]
    },
    {
      "cell_type": "markdown",
      "source": [
        "#Convertir coordenadas rectangulares a polares"
      ],
      "metadata": {
        "id": "62UjXalEqPF5"
      }
    },
    {
      "cell_type": "code",
      "source": [
        "rpolar=lambda x,y:np.sqrt(x**2+y**2)\n",
        "rpolar(1,4)\n",
        "\n"
      ],
      "metadata": {
        "colab": {
          "base_uri": "https://localhost:8080/",
          "height": 0
        },
        "id": "UT3bLuVaqPUj",
        "outputId": "91f8354a-6dd3-42bf-9e8d-30dca1535328"
      },
      "execution_count": 72,
      "outputs": [
        {
          "output_type": "execute_result",
          "data": {
            "text/plain": [
              "4.123105625617661"
            ]
          },
          "metadata": {},
          "execution_count": 72
        }
      ]
    },
    {
      "cell_type": "code",
      "source": [
        "tpolar=lambda x,y:np.arctan2(y,x)\n",
        "tpolar(1,4)"
      ],
      "metadata": {
        "colab": {
          "base_uri": "https://localhost:8080/",
          "height": 0
        },
        "id": "OYhVVk_0GU0y",
        "outputId": "402a1b97-5960-4810-f4db-ac609a3fb696"
      },
      "execution_count": 73,
      "outputs": [
        {
          "output_type": "execute_result",
          "data": {
            "text/plain": [
              "1.3258176636680326"
            ]
          },
          "metadata": {},
          "execution_count": 73
        }
      ]
    }
  ]
}